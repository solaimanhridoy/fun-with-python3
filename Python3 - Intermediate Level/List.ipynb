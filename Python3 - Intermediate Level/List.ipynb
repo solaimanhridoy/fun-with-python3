{
 "cells": [
  {
   "cell_type": "code",
   "execution_count": 1,
   "metadata": {},
   "outputs": [],
   "source": [
    "# List"
   ]
  },
  {
   "cell_type": "markdown",
   "metadata": {},
   "source": [
    "# List Intermediate"
   ]
  },
  {
   "cell_type": "code",
   "execution_count": 2,
   "metadata": {},
   "outputs": [
    {
     "name": "stdout",
     "output_type": "stream",
     "text": [
      "['banana', 'cherry', 'apple']\n"
     ]
    }
   ],
   "source": [
    "# Lists: ordered, mutable, allows duplicates elements\n",
    "\n",
    "myList = [\"banana\", \"cherry\", \"apple\"]\n",
    "print(myList)"
   ]
  },
  {
   "cell_type": "code",
   "execution_count": 3,
   "metadata": {},
   "outputs": [],
   "source": [
    "# Creating a list"
   ]
  },
  {
   "cell_type": "code",
   "execution_count": 4,
   "metadata": {},
   "outputs": [
    {
     "name": "stdout",
     "output_type": "stream",
     "text": [
      "['red', 'green', 'blue']\n",
      "[]\n",
      "[10, 'red', False]\n",
      "['green', 'green', 15, 15]\n"
     ]
    }
   ],
   "source": [
    "list_a = [\"red\", \"green\", \"blue\"]\n",
    "print(list_a)\n",
    "\n",
    "# Create an empty list\n",
    "list_b = list()\n",
    "print(list_b)\n",
    "\n",
    "# Lists allow different data types\n",
    "list_c = [10, \"red\", False]\n",
    "print(list_c)\n",
    "\n",
    "# Lists allow duplicates\n",
    "list_d = [\"green\", \"green\", 15, 15]\n",
    "print(list_d)"
   ]
  },
  {
   "cell_type": "code",
   "execution_count": 5,
   "metadata": {},
   "outputs": [],
   "source": [
    "# Access elements"
   ]
  },
  {
   "cell_type": "code",
   "execution_count": 6,
   "metadata": {},
   "outputs": [
    {
     "name": "stdout",
     "output_type": "stream",
     "text": [
      "green\n",
      "blue\n"
     ]
    }
   ],
   "source": [
    "item_1 = list_a[1]\n",
    "print(item_1)\n",
    "\n",
    "# Lists allow negative indexing\n",
    "item_2 = list_a[-1]\n",
    "print(item_2)"
   ]
  },
  {
   "cell_type": "code",
   "execution_count": 7,
   "metadata": {},
   "outputs": [],
   "source": [
    "# Change Item"
   ]
  },
  {
   "cell_type": "code",
   "execution_count": 8,
   "metadata": {},
   "outputs": [
    {
     "name": "stdout",
     "output_type": "stream",
     "text": [
      "['Orange', 'green', 'blue']\n"
     ]
    }
   ],
   "source": [
    "# Lists can be altered\n",
    "list_a[0] = \"Orange\"\n",
    "print(list_a)"
   ]
  },
  {
   "cell_type": "code",
   "execution_count": 9,
   "metadata": {},
   "outputs": [],
   "source": [
    "# Lists Methods"
   ]
  },
  {
   "cell_type": "code",
   "execution_count": 10,
   "metadata": {},
   "outputs": [
    {
     "name": "stdout",
     "output_type": "stream",
     "text": [
      "Length: 3\n",
      "['Red', 'Violet', 'Green', 'Blue', 'Orange']\n",
      "Popped item:  Orange\n",
      "['Red', 'Violet', 'Green']\n",
      "['Red', 'Violet', 'Green']\n",
      "Reversed:  [500, 2000, 7890, 4567, 1000, 1234]\n",
      "Sorted:  [500, 1000, 1234, 2000, 4567, 7890]\n",
      "['Green', 'Green', 'Green', 'Green', 'Green']\n",
      "['Green', 'Green', 'Green', 'Green', 'Green', 500, 1000, 1234, 2000, 4567, 7890]\n",
      "['Y', 'o', ' ', 'Y', 'o']\n"
     ]
    }
   ],
   "source": [
    "new_list = [\"Red\", \"Green\", \"Blue\"]\n",
    "\n",
    "# len(): get the number of elements in list\n",
    "print(\"Length:\", len(new_list))\n",
    "\n",
    "# append(): adds an element to the end of the list\n",
    "new_list.append(\"Orange\")\n",
    "\n",
    "# insert(): adds an element at the specified position\n",
    "new_list.insert(1, \"Violet\")\n",
    "print(new_list)\n",
    "\n",
    "\n",
    "# pop(): removes and returns the item at the given position, default is the last item\n",
    "item = new_list.pop()\n",
    "print(\"Popped item: \", item)\n",
    "\n",
    "# remove(): remove an item from the list\n",
    "new_list.remove(\"Blue\")\n",
    "print(new_list)\n",
    "\n",
    "# clear(): removes all items from the list\n",
    "new_list.clear\n",
    "print(new_list)\n",
    "\n",
    "# reverse(): reverse the items\n",
    "new_list = [1234, 1000, 4567, 7890, 2000, 500]\n",
    "new_list.reverse()\n",
    "print('Reversed: ', new_list)\n",
    "\n",
    "# sort(): sort items in ascending order\n",
    "new_list.sort()\n",
    "print('Sorted: ', new_list)\n",
    "\n",
    "# sorted(): to get a new list, and leave the original unaffected.\n",
    "# It works on any iterable type\n",
    "\n",
    "new_list = [1234, 1000, 4567, 7890, 2000, 500]\n",
    "new_list = sorted(new_list)\n",
    "\n",
    "# create list with repeated elements\n",
    "list_with_greens = [\"Green\"] * 5\n",
    "print(list_with_greens)\n",
    "\n",
    "# Concatenations\n",
    "\n",
    "list_concat = list_with_greens + new_list\n",
    "print(list_concat)\n",
    "\n",
    "# convert string to list\n",
    "string_to_list = list('Yo Yo')\n",
    "print(string_to_list)\n",
    "\n"
   ]
  },
  {
   "cell_type": "code",
   "execution_count": 11,
   "metadata": {
    "scrolled": true
   },
   "outputs": [
    {
     "name": "stdout",
     "output_type": "stream",
     "text": [
      "Original List:  ['Red', 'Green', 'Blue', True]\n",
      "Copied List:  ['Red', 'Green', 'Blue', True]\n"
     ]
    },
    {
     "ename": "NameError",
     "evalue": "name 'list_orginal' is not defined",
     "output_type": "error",
     "traceback": [
      "\u001b[0;31m---------------------------------------------------------------------------\u001b[0m",
      "\u001b[0;31mNameError\u001b[0m                                 Traceback (most recent call last)",
      "\u001b[0;32m<ipython-input-11-27a95582e023>\u001b[0m in \u001b[0;36m<module>\u001b[0;34m\u001b[0m\n\u001b[1;32m     16\u001b[0m \u001b[0mlist_original\u001b[0m \u001b[0;34m=\u001b[0m \u001b[0;34m[\u001b[0m\u001b[0;34m\"Red\"\u001b[0m\u001b[0;34m,\u001b[0m \u001b[0;34m\"Green\"\u001b[0m\u001b[0;34m,\u001b[0m \u001b[0;34m\"Blue\"\u001b[0m\u001b[0;34m]\u001b[0m\u001b[0;34m\u001b[0m\u001b[0;34m\u001b[0m\u001b[0m\n\u001b[1;32m     17\u001b[0m \u001b[0;34m\u001b[0m\u001b[0m\n\u001b[0;32m---> 18\u001b[0;31m \u001b[0mlist_copy1\u001b[0m \u001b[0;34m=\u001b[0m \u001b[0mlist_orginal\u001b[0m\u001b[0;34m.\u001b[0m\u001b[0mcopy\u001b[0m\u001b[0;34m(\u001b[0m\u001b[0;34m)\u001b[0m\u001b[0;34m\u001b[0m\u001b[0;34m\u001b[0m\u001b[0m\n\u001b[0m\u001b[1;32m     19\u001b[0m \u001b[0mlist_copy2\u001b[0m \u001b[0;34m=\u001b[0m \u001b[0mlist\u001b[0m\u001b[0;34m(\u001b[0m\u001b[0mlist_original\u001b[0m\u001b[0;34m)\u001b[0m\u001b[0;34m\u001b[0m\u001b[0;34m\u001b[0m\u001b[0m\n\u001b[1;32m     20\u001b[0m \u001b[0mlist_copy3\u001b[0m \u001b[0;34m=\u001b[0m \u001b[0mlist_original\u001b[0m\u001b[0;34m[\u001b[0m\u001b[0;34m:\u001b[0m\u001b[0;34m]\u001b[0m\u001b[0;34m\u001b[0m\u001b[0;34m\u001b[0m\u001b[0m\n",
      "\u001b[0;31mNameError\u001b[0m: name 'list_orginal' is not defined"
     ]
    }
   ],
   "source": [
    "# Copy a list\n",
    "\n",
    "list_original = [\"Red\", \"Green\", \"Blue\"]\n",
    "\n",
    "# To copy the reference to the list\n",
    "\n",
    "list_copy = list_original\n",
    "\n",
    "# Now, to modify the copy also affects the original\n",
    "list_copy.append(True)\n",
    "print(\"Original List: \", list_original)\n",
    "print(\"Copied List: \", list_copy)\n",
    "\n",
    "# To copy a list without affecting the original list, use copy() method or use list(x) or use slicing: list_copy = list_original[:]\n",
    "\n",
    "list_original = [\"Red\", \"Green\", \"Blue\"]\n",
    "\n",
    "list_copy1 = list_orginal.copy()\n",
    "list_copy2 = list(list_original)\n",
    "list_copy3 = list_original[:]\n",
    "\n",
    "# Now we can modify the copied list without affecting the original one\n",
    "list_copy1.append(True)\n",
    "print(\"Copied List 1:\", list_copy1)\n",
    "list_copy2.append(\"False\")\n",
    "print(\"Copied List 2:\",list_copy2)\n",
    "list_copy3.append(100)\n",
    "print(\"Copied List 3:\",list_copy3)\n",
    "\n"
   ]
  },
  {
   "cell_type": "markdown",
   "metadata": {},
   "source": [
    "# Iterating"
   ]
  },
  {
   "cell_type": "code",
   "execution_count": 12,
   "metadata": {},
   "outputs": [
    {
     "name": "stdout",
     "output_type": "stream",
     "text": [
      "10\n",
      "red\n",
      "False\n"
     ]
    }
   ],
   "source": [
    "# Iterating over a list by using a for in loop\n",
    "\n",
    "for i in list_c:\n",
    "    print(i)"
   ]
  },
  {
   "cell_type": "code",
   "execution_count": 13,
   "metadata": {},
   "outputs": [],
   "source": [
    "# check if an item exists"
   ]
  },
  {
   "cell_type": "code",
   "execution_count": 14,
   "metadata": {},
   "outputs": [
    {
     "name": "stdout",
     "output_type": "stream",
     "text": [
      "No.\n"
     ]
    }
   ],
   "source": [
    "if \"Red\" in list_a:\n",
    "    print(\"Yes.\")\n",
    "else:\n",
    "    print(\"No.\")"
   ]
  },
  {
   "cell_type": "code",
   "execution_count": 15,
   "metadata": {},
   "outputs": [],
   "source": [
    "# Slicing\n",
    "# Access sub parts of the list with the used of colon(:)"
   ]
  },
  {
   "cell_type": "code",
   "execution_count": 16,
   "metadata": {},
   "outputs": [
    {
     "name": "stdout",
     "output_type": "stream",
     "text": [
      "[20, 30, 40]\n",
      "[40, 50, 'Tom', 'Jerry', 'Charlie']\n",
      "[10, 20, 30, 40, 50]\n",
      "[0, 30, 40, 50, 'Tom', 'Jerry', 'Charlie']\n",
      "[0, 40, 'Tom', 'Charlie']\n",
      "['Charlie', 'Tom', 40, 0]\n",
      "[0, 30, 40, 50, 'Tom', 'Jerry', 'Charlie']\n"
     ]
    }
   ],
   "source": [
    "# a[start: stop: step], default step is 1\n",
    "\n",
    "a = [10, 20 , 30, 40, 50, \"Tom\", \"Jerry\", \"Charlie\"]\n",
    "\n",
    "# Slice from index 1 to index 4\n",
    "b = a[1:4]\n",
    "print(b)\n",
    "\n",
    "# Until the end\n",
    "b = a[3:]\n",
    "print(b)\n",
    "\n",
    "# From beginning\n",
    "b = a[:5]\n",
    "print(b)\n",
    "\n",
    "# Replace a sub parts which is from index 0 to index 2\n",
    "a[0:2] = [0]\n",
    "print(a)\n",
    "\n",
    "# Start to end with every second item\n",
    "b = a[::2]\n",
    "print(b)\n",
    "\n",
    "# Reverse the list with a negative step\n",
    "b = b[::-1]\n",
    "print(b)\n",
    "\n",
    "# Copy a list with slicing\n",
    "b = a[:]\n",
    "print(b)"
   ]
  },
  {
   "cell_type": "markdown",
   "metadata": {},
   "source": [
    "# List comprehension\n",
    "A way to create a new list from an existing list."
   ]
  },
  {
   "cell_type": "code",
   "execution_count": 17,
   "metadata": {},
   "outputs": [
    {
     "name": "stdout",
     "output_type": "stream",
     "text": [
      "[100, 400, 900, 1600, 2500]\n"
     ]
    }
   ],
   "source": [
    "new_list = [10, 20, 30 , 40, 50]\n",
    "# Square each element\n",
    "square_list = [i*i for i in new_list]\n",
    "print(square_list)"
   ]
  },
  {
   "cell_type": "code",
   "execution_count": 18,
   "metadata": {},
   "outputs": [],
   "source": [
    "# Nested lists"
   ]
  },
  {
   "cell_type": "code",
   "execution_count": 19,
   "metadata": {},
   "outputs": [
    {
     "name": "stdout",
     "output_type": "stream",
     "text": [
      "[[10, 20], ['Red', 'Green']]\n",
      "['Red', 'Green']\n"
     ]
    }
   ],
   "source": [
    "new_list = [[10, 20], [\"Red\", \"Green\"]]\n",
    "print(new_list)\n",
    "print(new_list[1])"
   ]
  },
  {
   "cell_type": "code",
   "execution_count": null,
   "metadata": {},
   "outputs": [],
   "source": []
  },
  {
   "cell_type": "code",
   "execution_count": null,
   "metadata": {},
   "outputs": [],
   "source": []
  },
  {
   "cell_type": "code",
   "execution_count": null,
   "metadata": {},
   "outputs": [],
   "source": []
  }
 ],
 "metadata": {
  "kernelspec": {
   "display_name": "Python 3",
   "language": "python",
   "name": "python3"
  },
  "language_info": {
   "codemirror_mode": {
    "name": "ipython",
    "version": 3
   },
   "file_extension": ".py",
   "mimetype": "text/x-python",
   "name": "python",
   "nbconvert_exporter": "python",
   "pygments_lexer": "ipython3",
   "version": "3.6.9"
  }
 },
 "nbformat": 4,
 "nbformat_minor": 4
}
