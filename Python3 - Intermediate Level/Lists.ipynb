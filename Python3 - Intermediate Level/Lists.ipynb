{
 "cells": [
  {
   "cell_type": "code",
   "execution_count": 2,
   "metadata": {},
   "outputs": [],
   "source": [
    "# List"
   ]
  },
  {
   "cell_type": "markdown",
   "metadata": {},
   "source": [
    "# List Intermediate"
   ]
  },
  {
   "cell_type": "code",
   "execution_count": 3,
   "metadata": {},
   "outputs": [
    {
     "name": "stdout",
     "output_type": "stream",
     "text": [
      "['banana', 'cherry', 'apple']\n"
     ]
    }
   ],
   "source": [
    "# Lists: ordered, mutable, allows duplicates elements\n",
    "\n",
    "myList = [\"banana\", \"cherry\", \"apple\"]\n",
    "print(myList)"
   ]
  },
  {
   "cell_type": "code",
   "execution_count": 4,
   "metadata": {},
   "outputs": [],
   "source": [
    "# Creating a list"
   ]
  },
  {
   "cell_type": "code",
   "execution_count": 7,
   "metadata": {},
   "outputs": [
    {
     "name": "stdout",
     "output_type": "stream",
     "text": [
      "['red', 'green', 'blue']\n",
      "[]\n",
      "[10, 'red', False]\n",
      "['green', 'green', 15, 15]\n"
     ]
    }
   ],
   "source": [
    "list_a = [\"red\", \"green\", \"blue\"]\n",
    "print(list_a)\n",
    "\n",
    "# Create an empty list\n",
    "list_b = list()\n",
    "print(list_b)\n",
    "\n",
    "# Lists allow different data types\n",
    "list_c = [10, \"red\", False]\n",
    "print(list_c)\n",
    "\n",
    "# Lists allow duplicates\n",
    "list_d = [\"green\", \"green\", 15, 15]\n",
    "print(list_d)"
   ]
  },
  {
   "cell_type": "code",
   "execution_count": 8,
   "metadata": {},
   "outputs": [],
   "source": [
    "# Access elements"
   ]
  },
  {
   "cell_type": "code",
   "execution_count": 10,
   "metadata": {},
   "outputs": [
    {
     "name": "stdout",
     "output_type": "stream",
     "text": [
      "green\n",
      "blue\n"
     ]
    }
   ],
   "source": [
    "item_1 = list_a[1]\n",
    "print(item_1)\n",
    "\n",
    "# Lists allow negative indexing\n",
    "item_2 = list_a[-1]\n",
    "print(item_2)"
   ]
  },
  {
   "cell_type": "code",
   "execution_count": 11,
   "metadata": {},
   "outputs": [],
   "source": [
    "# Change Item"
   ]
  },
  {
   "cell_type": "code",
   "execution_count": 13,
   "metadata": {},
   "outputs": [
    {
     "name": "stdout",
     "output_type": "stream",
     "text": [
      "['Orange', 'green', 'blue']\n"
     ]
    }
   ],
   "source": [
    "# Lists can be altered\n",
    "list_a[0] = \"Orange\"\n",
    "print(list_a)"
   ]
  },
  {
   "cell_type": "code",
   "execution_count": 14,
   "metadata": {},
   "outputs": [],
   "source": [
    "# Lists Methods"
   ]
  },
  {
   "cell_type": "code",
   "execution_count": 16,
   "metadata": {},
   "outputs": [
    {
     "name": "stdout",
     "output_type": "stream",
     "text": [
      "Length: 3\n",
      "['Red', 'Violet', 'Green', 'Blue', 'Orange']\n",
      "Popped item:  Orange\n",
      "['Red', 'Violet', 'Green']\n",
      "['Red', 'Violet', 'Green']\n",
      "Reversed:  [500, 2000, 7890, 4567, 1000, 1234]\n",
      "Sorted:  [500, 1000, 1234, 2000, 4567, 7890]\n",
      "['Green', 'Green', 'Green', 'Green', 'Green']\n",
      "['Green', 'Green', 'Green', 'Green', 'Green', 500, 1000, 1234, 2000, 4567, 7890]\n",
      "['Y', 'o', ' ', 'Y', 'o']\n"
     ]
    }
   ],
   "source": [
    "new_list = [\"Red\", \"Green\", \"Blue\"]\n",
    "\n",
    "# len(): get the number of elements in list\n",
    "print(\"Length:\", len(new_list))\n",
    "\n",
    "# append(): adds an element to the end of the list\n",
    "new_list.append(\"Orange\")\n",
    "\n",
    "# insert(): adds an element at the specified position\n",
    "new_list.insert(1, \"Violet\")\n",
    "print(new_list)\n",
    "\n",
    "\n",
    "# pop(): removes and returns the item at the given position, default is the last item\n",
    "item = new_list.pop()\n",
    "print(\"Popped item: \", item)\n",
    "\n",
    "# remove(): remove an item from the list\n",
    "new_list.remove(\"Blue\")\n",
    "print(new_list)\n",
    "\n",
    "# clear(): removes all items from the list\n",
    "new_list.clear\n",
    "print(new_list)\n",
    "\n",
    "# reverse(): reverse the items\n",
    "new_list = [1234, 1000, 4567, 7890, 2000, 500]\n",
    "new_list.reverse()\n",
    "print('Reversed: ', new_list)\n",
    "\n",
    "# sort(): sort items in ascending order\n",
    "new_list.sort()\n",
    "print('Sorted: ', new_list)\n",
    "\n",
    "# sorted(): to get a new list, and leave the original unaffected.\n",
    "# It works on any iterable type\n",
    "\n",
    "new_list = [1234, 1000, 4567, 7890, 2000, 500]\n",
    "new_list = sorted(new_list)\n",
    "\n",
    "# create list with repeated elements\n",
    "list_with_greens = [\"Green\"] * 5\n",
    "print(list_with_greens)\n",
    "\n",
    "# Concatenations\n",
    "\n",
    "list_concat = list_with_greens + new_list\n",
    "print(list_concat)\n",
    "\n",
    "# convert string to list\n",
    "string_to_list = list('Yo Yo')\n",
    "print(string_to_list)\n",
    "\n"
   ]
  },
  {
   "cell_type": "code",
   "execution_count": null,
   "metadata": {},
   "outputs": [],
   "source": []
  }
 ],
 "metadata": {
  "kernelspec": {
   "display_name": "Python 3",
   "language": "python",
   "name": "python3"
  },
  "language_info": {
   "codemirror_mode": {
    "name": "ipython",
    "version": 3
   },
   "file_extension": ".py",
   "mimetype": "text/x-python",
   "name": "python",
   "nbconvert_exporter": "python",
   "pygments_lexer": "ipython3",
   "version": "3.6.9"
  }
 },
 "nbformat": 4,
 "nbformat_minor": 4
}
